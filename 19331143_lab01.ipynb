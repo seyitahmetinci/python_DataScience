{
  "cells": [
    {
      "cell_type": "markdown",
      "source": [],
      "metadata": {
        "id": "qWNMDkM6pizA"
      }
    },
    {
      "cell_type": "markdown",
      "metadata": {
        "id": "N93M8p1UjRxk"
      },
      "source": [
        "># <center> <font color='red'> CMPE428 - DATA SCIENCE </font> </center>\n",
        ">## <center> <font color='blue'> Assignment 1 - Built-in Types in Python </font>  </center>\n",
        "### <center> <font color='black'> Seyit Ahmet İNCİ | 19331143 </font>  </center>\n"
      ]
    },
    {
      "cell_type": "markdown",
      "metadata": {
        "id": "17BaanAljRxm"
      },
      "source": [
        "Create a tuple including elements 5,10,15,20 and display the tuple"
      ]
    },
    {
      "cell_type": "code",
      "execution_count": 2,
      "metadata": {
        "colab": {
          "base_uri": "https://localhost:8080/",
          "height": 0
        },
        "id": "uQ3Y4caCjRxn",
        "outputId": "045cf17f-75e7-4b65-fbbc-8f6fab406cdd"
      },
      "outputs": [
        {
          "output_type": "stream",
          "name": "stdout",
          "text": [
            "(5, 10, 15, 20)\n"
          ]
        }
      ],
      "source": [
        "\n",
        "tup = (5,10,15,20)\n",
        "print(tup)"
      ]
    },
    {
      "cell_type": "markdown",
      "metadata": {
        "id": "u1skohwOjRxo"
      },
      "source": [
        "Print the sum of the elements of the tuple"
      ]
    },
    {
      "cell_type": "code",
      "execution_count": 4,
      "metadata": {
        "colab": {
          "base_uri": "https://localhost:8080/",
          "height": 0
        },
        "id": "5pXZZ8LsjRxo",
        "outputId": "0136c1f3-0de5-483b-b4a9-2d6abd279315"
      },
      "outputs": [
        {
          "output_type": "stream",
          "name": "stdout",
          "text": [
            "50\n"
          ]
        }
      ],
      "source": [
        "tupSum = sum(tup)\n",
        "print(tupSum)"
      ]
    },
    {
      "cell_type": "markdown",
      "metadata": {
        "id": "ScH9N_4ljRxo"
      },
      "source": [
        "Concatenate tuple with the tuple (1,2,3) and print the resultant tuple"
      ]
    },
    {
      "cell_type": "code",
      "execution_count": 7,
      "metadata": {
        "colab": {
          "base_uri": "https://localhost:8080/",
          "height": 0
        },
        "id": "mPAqn-q5jRxo",
        "outputId": "22de8f35-b3d4-4c35-9943-44d23e78d963"
      },
      "outputs": [
        {
          "output_type": "stream",
          "name": "stdout",
          "text": [
            "(5, 10, 15, 20, 1, 2, 3)\n"
          ]
        }
      ],
      "source": [
        "print(tup + tuple([1,2,3]))"
      ]
    },
    {
      "cell_type": "markdown",
      "metadata": {
        "id": "Ose0goBVjRxo"
      },
      "source": [
        "duplicate the tuple 5 times as a new tuple"
      ]
    },
    {
      "cell_type": "code",
      "execution_count": 6,
      "metadata": {
        "colab": {
          "base_uri": "https://localhost:8080/",
          "height": 0
        },
        "id": "tYy0ZmQEjRxp",
        "outputId": "bfc31548-ae5b-4434-d72e-d027825082a0"
      },
      "outputs": [
        {
          "output_type": "stream",
          "name": "stdout",
          "text": [
            "(5, 10, 15, 20, 5, 10, 15, 20, 5, 10, 15, 20, 5, 10, 15, 20, 5, 10, 15, 20)\n"
          ]
        }
      ],
      "source": [
        "newTup = tup * 5\n",
        "print(newTup)"
      ]
    },
    {
      "cell_type": "markdown",
      "metadata": {
        "id": "PnjdpAgfjRxp"
      },
      "source": [
        "unpack tuple into three variables, a,b, c and d"
      ]
    },
    {
      "cell_type": "code",
      "execution_count": 8,
      "metadata": {
        "colab": {
          "base_uri": "https://localhost:8080/",
          "height": 0
        },
        "id": "6b7pcnWHjRxp",
        "outputId": "1369043c-3555-458f-b61c-43377666737e"
      },
      "outputs": [
        {
          "output_type": "stream",
          "name": "stdout",
          "text": [
            "5 10 15 20\n"
          ]
        }
      ],
      "source": [
        "\n",
        "a,b,c,d = tup\n",
        "print(a,b,c,d)"
      ]
    },
    {
      "cell_type": "markdown",
      "metadata": {
        "id": "Ql7SouQ6jRxp"
      },
      "source": [
        "Access the elements of the tuple in a for loop one by one and display their square roots"
      ]
    },
    {
      "cell_type": "code",
      "execution_count": null,
      "metadata": {
        "id": "vsl0Sl87jRxp",
        "outputId": "a4210c71-e5ff-44b0-92d4-74e37adbd328"
      },
      "outputs": [
        {
          "name": "stdout",
          "output_type": "stream",
          "text": [
            "2.23606797749979\n",
            "3.1622776601683795\n",
            "3.872983346207417\n",
            "4.47213595499958\n"
          ]
        }
      ],
      "source": [
        "import math as mat\n",
        "\n",
        "for x in tup:\n",
        "  print(mat.sqrt(x))"
      ]
    },
    {
      "cell_type": "markdown",
      "metadata": {
        "id": "mko-BSRDjRxq"
      },
      "source": [
        "Create a an empty list named as myList"
      ]
    },
    {
      "cell_type": "code",
      "execution_count": 22,
      "metadata": {
        "id": "_GTUkfPnjRxq"
      },
      "outputs": [],
      "source": [
        "myList = []"
      ]
    },
    {
      "cell_type": "markdown",
      "metadata": {
        "id": "_9q0ExzsjRxq"
      },
      "source": [
        "Add the elements 5,10,15 and 20 one by one to the list"
      ]
    },
    {
      "cell_type": "code",
      "execution_count": 23,
      "metadata": {
        "id": "QeNqtoc1jRxq"
      },
      "outputs": [],
      "source": [
        "myList.append(5)\n",
        "myList.append(10)\n",
        "myList.append(15)\n",
        "myList.append(20)"
      ]
    },
    {
      "cell_type": "markdown",
      "metadata": {
        "id": "h7wJSDfKjRxq"
      },
      "source": [
        "Display the list in reverse order"
      ]
    },
    {
      "cell_type": "code",
      "execution_count": 24,
      "metadata": {
        "colab": {
          "base_uri": "https://localhost:8080/",
          "height": 0
        },
        "id": "KUwxdMgwjRxq",
        "outputId": "4dea2a70-558d-421b-9dba-6af3dc253bab"
      },
      "outputs": [
        {
          "output_type": "stream",
          "name": "stdout",
          "text": [
            "[20, 15, 10, 5]\n"
          ]
        }
      ],
      "source": [
        "print(myList[::-1])"
      ]
    },
    {
      "cell_type": "markdown",
      "metadata": {
        "id": "EJ_tRY_LjRxr"
      },
      "source": [
        "Insert the string \"abc\" to the index 2"
      ]
    },
    {
      "cell_type": "code",
      "execution_count": 25,
      "metadata": {
        "colab": {
          "base_uri": "https://localhost:8080/",
          "height": 0
        },
        "id": "9X7guvKRjRxr",
        "outputId": "ff75b9e8-8b4e-41ee-d0c4-0752f2e60303"
      },
      "outputs": [
        {
          "output_type": "stream",
          "name": "stdout",
          "text": [
            "[5, 10, 'abc', 15, 20]\n"
          ]
        }
      ],
      "source": [
        "myList.insert(2,\"abc\")\n",
        "print(myList)"
      ]
    },
    {
      "cell_type": "markdown",
      "metadata": {
        "id": "3Yh0zItzjRxr"
      },
      "source": [
        "Pop the string inserted"
      ]
    },
    {
      "cell_type": "code",
      "execution_count": 26,
      "metadata": {
        "colab": {
          "base_uri": "https://localhost:8080/",
          "height": 0
        },
        "id": "_ZxO7FaMjRxr",
        "outputId": "80d3a061-d332-4d13-8b09-a5544beb8cea"
      },
      "outputs": [
        {
          "output_type": "stream",
          "name": "stdout",
          "text": [
            "list: [5, 10, 15, 20]\n"
          ]
        }
      ],
      "source": [
        "myList.pop(2);\n",
        "print(\"list:\",myList)"
      ]
    },
    {
      "cell_type": "markdown",
      "metadata": {
        "id": "PMLZ3hxXjRxr"
      },
      "source": [
        "Remove 15 from the list"
      ]
    },
    {
      "cell_type": "code",
      "execution_count": 27,
      "metadata": {
        "colab": {
          "base_uri": "https://localhost:8080/",
          "height": 0
        },
        "id": "iR0cl0eujRxr",
        "outputId": "d36e41b1-2be0-4b21-b40e-a4aeb048b51a"
      },
      "outputs": [
        {
          "output_type": "stream",
          "name": "stdout",
          "text": [
            "[5, 10, 20]\n"
          ]
        }
      ],
      "source": [
        "myList.remove(15);\n",
        "print(myList)"
      ]
    },
    {
      "cell_type": "markdown",
      "metadata": {
        "id": "FDtS2HD9jRxs"
      },
      "source": [
        "Write an expression to check if the list contains 15"
      ]
    },
    {
      "cell_type": "code",
      "execution_count": 28,
      "metadata": {
        "colab": {
          "base_uri": "https://localhost:8080/",
          "height": 0
        },
        "id": "1fLMyAmDjRxs",
        "outputId": "ef610bcc-0587-4b0e-ac35-87124a2cc481"
      },
      "outputs": [
        {
          "output_type": "stream",
          "name": "stdout",
          "text": [
            "False\n"
          ]
        }
      ],
      "source": [
        "print(15 in myList)"
      ]
    },
    {
      "cell_type": "markdown",
      "metadata": {
        "id": "teE-cp2MjRxs"
      },
      "source": [
        "Create a new list by concatenated myList and ['a','b','c']"
      ]
    },
    {
      "cell_type": "code",
      "execution_count": 29,
      "metadata": {
        "colab": {
          "base_uri": "https://localhost:8080/",
          "height": 0
        },
        "id": "MYqxHwywjRxs",
        "outputId": "a2b2dcb9-ea42-4d4e-ca21-29de38a1d580"
      },
      "outputs": [
        {
          "output_type": "stream",
          "name": "stdout",
          "text": [
            "[5, 10, 20, 'a', 'b', 'c']\n"
          ]
        }
      ],
      "source": [
        "newList = myList + [\"a\",\"b\",\"c\"]\n",
        "print(newList)"
      ]
    },
    {
      "cell_type": "markdown",
      "metadata": {
        "id": "5nEHYgExjRxs"
      },
      "source": [
        "Extend a myList by appending elements [1,2,3] using the extend method"
      ]
    },
    {
      "cell_type": "code",
      "execution_count": 30,
      "metadata": {
        "colab": {
          "base_uri": "https://localhost:8080/",
          "height": 0
        },
        "id": "OaL_l57YjRxs",
        "outputId": "5d8255bc-8663-4f57-fb59-b05238689563"
      },
      "outputs": [
        {
          "output_type": "stream",
          "name": "stdout",
          "text": [
            "[5, 10, 20, 'a', 'b', 'c', 1, 2, 3]\n"
          ]
        }
      ],
      "source": [
        "newList.extend([1,2,3])\n",
        "print(newList)"
      ]
    },
    {
      "cell_type": "markdown",
      "metadata": {
        "id": "twbkuSOvjRxs"
      },
      "source": [
        "Create a dictionary named as myDict with the following keys/value pairs:\n",
        "'a':'foo'\n",
        "'b': [1,2,3,4]"
      ]
    },
    {
      "cell_type": "code",
      "execution_count": 33,
      "metadata": {
        "colab": {
          "base_uri": "https://localhost:8080/",
          "height": 0
        },
        "id": "FFeCfa5ejRxs",
        "outputId": "44cc7a3a-529d-407f-9eb2-03e6eebfc502"
      },
      "outputs": [
        {
          "output_type": "stream",
          "name": "stdout",
          "text": [
            "{'a': 'foo', 'b': [1, 2, 3, 4]}\n"
          ]
        }
      ],
      "source": [
        "myDict = {\n",
        "    \"a\":\"foo\",\"b\":[1,2,3,4]}\n",
        "print(myDict)"
      ]
    },
    {
      "cell_type": "markdown",
      "metadata": {
        "id": "bkfZWMNpjRxt"
      },
      "source": [
        "Display the value corresponding to key 'b'"
      ]
    },
    {
      "cell_type": "code",
      "execution_count": 34,
      "metadata": {
        "colab": {
          "base_uri": "https://localhost:8080/",
          "height": 0
        },
        "id": "pFg7-d20jRxt",
        "outputId": "7277a8c8-e4f1-42bf-d60f-6d827bbf1302"
      },
      "outputs": [
        {
          "output_type": "stream",
          "name": "stdout",
          "text": [
            "[1, 2, 3, 4]\n"
          ]
        }
      ],
      "source": [
        "print(myDict[\"b\"])"
      ]
    },
    {
      "cell_type": "markdown",
      "metadata": {
        "id": "p-mhcfs4jRxt"
      },
      "source": [
        "Add a dictionary element with key 'c' and value '428'"
      ]
    },
    {
      "cell_type": "code",
      "execution_count": 35,
      "metadata": {
        "colab": {
          "base_uri": "https://localhost:8080/",
          "height": 0
        },
        "id": "W2aPmDrgjRxt",
        "outputId": "26e87e16-64bf-4b4f-ef4a-dace0a107b31"
      },
      "outputs": [
        {
          "output_type": "stream",
          "name": "stdout",
          "text": [
            "{'a': 'foo', 'b': [1, 2, 3, 4], 'c': '428'}\n"
          ]
        }
      ],
      "source": [
        "\n",
        "myDict[\"c\"] =\"428\"\n",
        "print(myDict)"
      ]
    },
    {
      "cell_type": "markdown",
      "metadata": {
        "id": "OMf2AbEFjRxt"
      },
      "source": [
        "Remove the dictionary entry corresponding to key 'b'"
      ]
    },
    {
      "cell_type": "code",
      "execution_count": 36,
      "metadata": {
        "colab": {
          "base_uri": "https://localhost:8080/",
          "height": 0
        },
        "id": "CKlXPOyLjRxt",
        "outputId": "e0dc628e-c003-4e8c-f7e6-5012e67ad810"
      },
      "outputs": [
        {
          "output_type": "stream",
          "name": "stdout",
          "text": [
            "{'a': 'foo', 'c': '428'}\n"
          ]
        }
      ],
      "source": [
        "myDict.pop(\"b\")\n",
        "print(myDict)"
      ]
    },
    {
      "cell_type": "markdown",
      "metadata": {
        "id": "3fqOv9yYjRxu"
      },
      "source": [
        "print the list of keys in myDict"
      ]
    },
    {
      "cell_type": "code",
      "execution_count": 37,
      "metadata": {
        "colab": {
          "base_uri": "https://localhost:8080/",
          "height": 0
        },
        "id": "qXrsis_xjRxu",
        "outputId": "ffff507a-7c5c-4f8d-9e32-effd774d2aa7"
      },
      "outputs": [
        {
          "output_type": "stream",
          "name": "stdout",
          "text": [
            "dict_keys(['a', 'c'])\n"
          ]
        }
      ],
      "source": [
        "print(myDict.keys())"
      ]
    },
    {
      "cell_type": "markdown",
      "metadata": {
        "id": "Zsmr0tqNjRxu"
      },
      "source": [
        "print the list of values in myDict"
      ]
    },
    {
      "cell_type": "code",
      "execution_count": 38,
      "metadata": {
        "colab": {
          "base_uri": "https://localhost:8080/",
          "height": 0
        },
        "id": "WoVGEfqqjRxu",
        "outputId": "b3dba1c7-aeff-4c82-aea3-0f06e14441fa"
      },
      "outputs": [
        {
          "output_type": "stream",
          "name": "stdout",
          "text": [
            "dict_values(['foo', '428'])\n"
          ]
        }
      ],
      "source": [
        "print(myDict.values())"
      ]
    },
    {
      "cell_type": "markdown",
      "metadata": {
        "id": "y5wnBwy3jRxu"
      },
      "source": [
        "Iterate through a dictionary's keys and values:"
      ]
    },
    {
      "cell_type": "code",
      "execution_count": 39,
      "metadata": {
        "colab": {
          "base_uri": "https://localhost:8080/",
          "height": 0
        },
        "id": "9jgXIPg7jRxu",
        "outputId": "1e1faecc-fd25-478c-d9e8-900a09d23ed9"
      },
      "outputs": [
        {
          "output_type": "stream",
          "name": "stdout",
          "text": [
            "a foo\n",
            "c 428\n"
          ]
        }
      ],
      "source": [
        "for key,item in myDict.items():\n",
        "  print(key,item)"
      ]
    },
    {
      "cell_type": "markdown",
      "metadata": {
        "id": "bK6jACipjRxu"
      },
      "source": [
        "Append multiple key/value pairs to myDict"
      ]
    },
    {
      "cell_type": "code",
      "execution_count": 40,
      "metadata": {
        "colab": {
          "base_uri": "https://localhost:8080/",
          "height": 0
        },
        "id": "GlaH57dRjRxv",
        "outputId": "adc850d2-869d-4a8f-c692-1881a02a672e"
      },
      "outputs": [
        {
          "output_type": "stream",
          "name": "stdout",
          "text": [
            "{'a': 'foo', 'c': '428', 'e': 'elephant', 'f': 'fish'}\n"
          ]
        }
      ],
      "source": [
        "newDictToAppend = {\n",
        "    \"e\":\"elephant\",\n",
        "    \"f\":\"fish\"\n",
        "}\n",
        "\n",
        "myDict.update(newDictToAppend)\n",
        "print(myDict)"
      ]
    },
    {
      "cell_type": "markdown",
      "metadata": {
        "id": "ib6p79h-jRxv"
      },
      "source": [
        "Create a set with elements 0, 1, 2, 3, 4, 5"
      ]
    },
    {
      "cell_type": "code",
      "execution_count": 41,
      "metadata": {
        "colab": {
          "base_uri": "https://localhost:8080/",
          "height": 0
        },
        "id": "lFzW8dtYjRxv",
        "outputId": "c80dc927-6da6-4bbc-e7ee-bf6cb03c0a02"
      },
      "outputs": [
        {
          "output_type": "stream",
          "name": "stdout",
          "text": [
            "{0, 1, 2, 3, 4, 5}\n"
          ]
        }
      ],
      "source": [
        "\n",
        "mySet1 = {0,1,2,3,4,5}\n",
        "print(mySet1)"
      ]
    },
    {
      "cell_type": "markdown",
      "metadata": {
        "id": "rr8Odxa0jRxv"
      },
      "source": [
        "Create another set with elements 4,5,6,7,8"
      ]
    },
    {
      "cell_type": "code",
      "execution_count": 42,
      "metadata": {
        "colab": {
          "base_uri": "https://localhost:8080/",
          "height": 0
        },
        "id": "j4eSF1GcjRxv",
        "outputId": "ede6476d-6943-4cdb-bd9b-059a6bf6c7f6"
      },
      "outputs": [
        {
          "output_type": "stream",
          "name": "stdout",
          "text": [
            "{4, 5, 6, 7, 8}\n"
          ]
        }
      ],
      "source": [
        "\n",
        "mySet2 = {4,5,6,7,8}\n",
        "print(mySet2)"
      ]
    },
    {
      "cell_type": "markdown",
      "metadata": {
        "id": "CmEhvXuljRxv"
      },
      "source": [
        "Define mySet3 as the union of mySet1 and mySet2"
      ]
    },
    {
      "cell_type": "code",
      "execution_count": 43,
      "metadata": {
        "colab": {
          "base_uri": "https://localhost:8080/",
          "height": 0
        },
        "id": "snNTydxcjRxv",
        "outputId": "8b5ee104-d82b-447e-b057-381cd8030ad0"
      },
      "outputs": [
        {
          "output_type": "stream",
          "name": "stdout",
          "text": [
            "{0, 1, 2, 3, 4, 5, 6, 7, 8}\n"
          ]
        }
      ],
      "source": [
        "\n",
        "mySet3 = mySet1 | mySet2\n",
        "print(mySet3)"
      ]
    },
    {
      "cell_type": "markdown",
      "metadata": {
        "id": "KLviqcbsjRxv"
      },
      "source": [
        "Define mySet3 as the intersection of mySet1 and mySet2"
      ]
    },
    {
      "cell_type": "code",
      "execution_count": 45,
      "metadata": {
        "colab": {
          "base_uri": "https://localhost:8080/",
          "height": 0
        },
        "id": "g6pyhv2zjRxw",
        "outputId": "ca313cf6-8605-40b4-9202-a2089cde95d5"
      },
      "outputs": [
        {
          "output_type": "stream",
          "name": "stdout",
          "text": [
            "{4, 5}\n"
          ]
        }
      ],
      "source": [
        "\n",
        "mySet3 = mySet1.intersection(mySet2)\n",
        "print(mySet3)"
      ]
    },
    {
      "cell_type": "markdown",
      "metadata": {
        "id": "KQVc0mdwjRxw"
      },
      "source": [
        "Define mySet3 as the elements in mySet1 but not in mySet2"
      ]
    },
    {
      "cell_type": "code",
      "execution_count": 46,
      "metadata": {
        "colab": {
          "base_uri": "https://localhost:8080/",
          "height": 0
        },
        "id": "zerq1NzHjRxw",
        "outputId": "7d5d2eff-e19e-4014-a8a5-6154f8c6a44a"
      },
      "outputs": [
        {
          "output_type": "stream",
          "name": "stdout",
          "text": [
            "{0, 1, 2, 3}\n"
          ]
        }
      ],
      "source": [
        "\n",
        "mySet3 = mySet1.difference(mySet2)\n",
        "print(mySet3)"
      ]
    },
    {
      "cell_type": "markdown",
      "metadata": {
        "id": "xFD7FxbIjRxw"
      },
      "source": [
        "Define mySet3 as the elements that are in either mySet1 or mySet2 but not in both"
      ]
    },
    {
      "cell_type": "code",
      "execution_count": 47,
      "metadata": {
        "colab": {
          "base_uri": "https://localhost:8080/",
          "height": 0
        },
        "id": "L6DE5NWUjRxw",
        "outputId": "55bf8318-0fe7-4914-9e24-d8414031e55c"
      },
      "outputs": [
        {
          "output_type": "stream",
          "name": "stdout",
          "text": [
            "{0, 1, 2, 3, 6, 7, 8}\n"
          ]
        }
      ],
      "source": [
        "\n",
        "mySet3 = mySet1.symmetric_difference(mySet2)\n",
        "print(mySet3)"
      ]
    }
  ],
  "metadata": {
    "kernelspec": {
      "display_name": "Python 3 (ipykernel)",
      "language": "python",
      "name": "python3"
    },
    "language_info": {
      "codemirror_mode": {
        "name": "ipython",
        "version": 3
      },
      "file_extension": ".py",
      "mimetype": "text/x-python",
      "name": "python",
      "nbconvert_exporter": "python",
      "pygments_lexer": "ipython3",
      "version": "3.9.7"
    },
    "colab": {
      "provenance": []
    }
  },
  "nbformat": 4,
  "nbformat_minor": 0
}